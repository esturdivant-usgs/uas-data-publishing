{
 "cells": [
  {
   "cell_type": "markdown",
   "metadata": {},
   "source": [
    "# Import packages"
   ]
  },
  {
   "cell_type": "code",
   "execution_count": 23,
   "metadata": {
    "collapsed": true
   },
   "outputs": [],
   "source": [
    "import matplotlib.pyplot as plt\n",
    "import numpy as np\n",
    "import os\n",
    "import shutil\n",
    "import subprocess\n",
    "from scipy.interpolate import interp1d\n",
    "from PIL import Image, ExifTags\n",
    "import pytz\n",
    "from datetime import datetime as DT\n",
    "import pandas as pd\n",
    "from lxml import etree\n",
    "from dateutil import parser\n",
    "import ipyleaflet as ipyl"
   ]
  },
  {
   "cell_type": "markdown",
   "metadata": {},
   "source": [
    "### Input variables"
   ]
  },
  {
   "cell_type": "code",
   "execution_count": 3,
   "metadata": {},
   "outputs": [
    {
     "name": "stdout",
     "output_type": "stream",
     "text": [
      "Flight number (e.g. \"04\"): 12\n",
      "Input nav file: /Volumes/stor/Projects/UAS_SfM/EROS_plumisland_test/test2/tlogs/f12.gpx\n",
      "Working JPEG dir: /Volumes/stor/Projects/UAS_SfM/EROS_plumisland_test/test2/f12\n",
      "input data: FA = 2018-015-FA    flight = f12    sensor = r01\n"
     ]
    }
   ],
   "source": [
    "# unique to local files:\n",
    "homedir = r'/Volumes/stor/Projects/UAS_SfM/EROS_plumisland_test/test2'\n",
    "rename_photos = True\n",
    "\n",
    "# Mission info \n",
    "fan = \"2018-015-FA\" # raw_input('Field activity number (e.g. \"2017-010-FA\"): ')\n",
    "# uas_id = 'u036' # raw_input('U-number of mission (e.g. \"u031\"): ')\n",
    "fnum = input('Flight number (e.g. \"04\"): ') \n",
    "fnum = 12\n",
    "flight_num = 'f{}'.format(fnum) # raw_input('Flight number (e.g. \"f04\"): ') \n",
    "cam_code = 'r01'# raw_input('Camera code (e.g. \"r01\"): ')\n",
    "\n",
    "# WHSC EXIF population\n",
    "place = 'Parker River National Wildlife Refuge, MA'\n",
    "state = 'Massachusetts'\n",
    "\n",
    "# auto – WHSC EXIF population\n",
    "credit = \"U.S. Geological Survey\"\n",
    "comment = \"Low-altitude aerial photograph of {} from survey {} (https://cmgds.marine.usgs.gov/fan_info.php?fa={}).\".format(place, fan, fan)\n",
    "keywords = \"{}, {}, {}, UAS, nadir, USGS\".format(place, state, fan)\n",
    "\n",
    "# Auto:\n",
    "logfile = os.path.join(homedir, 'tlogs', flight_num+'.gpx')\n",
    "imagefolder = os.path.join(homedir, flight_num)\n",
    "fc_id = flight_num + cam_code\n",
    "\n",
    "# Standard:\n",
    "namespace = {'def': 'http://www.topografix.com/GPX/1/1'}\n",
    "tfmt_exif = '%Y:%m:%d %H:%M:%S'\n",
    "tfmt_gpx = '%Y-%m-%dT%H:%M:%S' #e.g. 2017-05-04T14:14:12-04:00\n",
    "iso_fmt=\"%Y%m%dT%H%M%SZ\"\n",
    "survey_id = fan.replace(\"-\",\"\")\n",
    "\n",
    "# Print\n",
    "print(\"Input nav file: {}\\nWorking JPEG dir: {}\".format(logfile, imagefolder))\n",
    "input_check = \"FA = {}    flight = {}    sensor = {}\".format(fan, flight_num, cam_code)\n",
    "print (\"Input data: \"+ input_check)"
   ]
  },
  {
   "cell_type": "markdown",
   "metadata": {},
   "source": [
    "### Functions"
   ]
  },
  {
   "cell_type": "code",
   "execution_count": 4,
   "metadata": {
    "collapsed": true
   },
   "outputs": [],
   "source": [
    "def gpx_tag_to_pdseries(tree, namespace, tag):\n",
    "    elist = tree.xpath('./def:trk//def:trkpt//def:'+tag, namespaces=namespace)\n",
    "    ser = pd.Series([e.text for e in elist], name=tag)\n",
    "    return(ser)\n",
    "\n",
    "def write_WHSC_exiftags(imgdir, credit, comment, keywords):\n",
    "    # Tags that will be identical for all images in the folder\n",
    "    tagvalues = {}\n",
    "    tagvalues['imgdir'] = imgdir\n",
    "    tagvalues['credit'] = credit\n",
    "    tagvalues['artist'] = credit\n",
    "    tagvalues['contact'] = \"WHSC_data_contact@usgs.gov\"\n",
    "    tagvalues['comment'] = comment\n",
    "    tagvalues['keywords'] = keywords\n",
    "    tagvalues['copyright'] = \"Public Domain. Please credit {credit}\".format(**tagvalues)\n",
    "    # Write to EXIF\n",
    "    cmd = \"\"\"exiftool -Artist=\"{artist} \" -Credit=\"{credit} \" -Contact=\"{contact} \" -comment=\"{comment} \" -sep \", \" -keywords=\"{keywords} \" -Caption=\"{comment} \" -Copyright=\"{copyright} \" -CopyrightNotice=\"{copyright} \" -Caption-Abstract=\"{comment} \" -ImageDescription=\"{comment} \" {imgdir}\"\"\".format(**tagvalues)\n",
    "    subprocess.check_call(cmd, shell=True)\n",
    "    return(True)\n",
    "\n",
    "# write_WHSC_exiftags(imgdir, credit, comment, keywords)"
   ]
  },
  {
   "cell_type": "markdown",
   "metadata": {},
   "source": [
    "### Parse GPX and extract components into dataframe"
   ]
  },
  {
   "cell_type": "code",
   "execution_count": 35,
   "metadata": {
    "scrolled": true
   },
   "outputs": [
    {
     "name": "stdout",
     "output_type": "stream",
     "text": [
      "number of records:  8774\n",
      "number of unique times: 1209\n",
      "\n"
     ]
    },
    {
     "data": {
      "text/html": [
       "<div>\n",
       "<style>\n",
       "    .dataframe thead tr:only-child th {\n",
       "        text-align: right;\n",
       "    }\n",
       "\n",
       "    .dataframe thead th {\n",
       "        text-align: left;\n",
       "    }\n",
       "\n",
       "    .dataframe tbody tr th {\n",
       "        vertical-align: top;\n",
       "    }\n",
       "</style>\n",
       "<table border=\"1\" class=\"dataframe\">\n",
       "  <thead>\n",
       "    <tr style=\"text-align: right;\">\n",
       "      <th></th>\n",
       "      <th>lat</th>\n",
       "      <th>lon</th>\n",
       "      <th>time</th>\n",
       "      <th>ele</th>\n",
       "      <th>ele2</th>\n",
       "      <th>course</th>\n",
       "      <th>roll</th>\n",
       "      <th>pitch</th>\n",
       "      <th>mode</th>\n",
       "    </tr>\n",
       "  </thead>\n",
       "  <tbody>\n",
       "    <tr>\n",
       "      <th>0</th>\n",
       "      <td>42.772496</td>\n",
       "      <td>-70.805893</td>\n",
       "      <td>2018-02-27T21:30:33+00:00</td>\n",
       "      <td>0.16</td>\n",
       "      <td>0.16</td>\n",
       "      <td>282.8260</td>\n",
       "      <td>-0.215672</td>\n",
       "      <td>-0.055218</td>\n",
       "      <td>Loiter</td>\n",
       "    </tr>\n",
       "    <tr>\n",
       "      <th>1</th>\n",
       "      <td>42.772496</td>\n",
       "      <td>-70.805894</td>\n",
       "      <td>2018-02-27T21:30:33+00:00</td>\n",
       "      <td>0.16</td>\n",
       "      <td>0.16</td>\n",
       "      <td>282.8195</td>\n",
       "      <td>-0.217306</td>\n",
       "      <td>-0.051144</td>\n",
       "      <td>Loiter</td>\n",
       "    </tr>\n",
       "    <tr>\n",
       "      <th>2</th>\n",
       "      <td>42.772496</td>\n",
       "      <td>-70.805894</td>\n",
       "      <td>2018-02-27T21:30:34+00:00</td>\n",
       "      <td>0.17</td>\n",
       "      <td>0.17</td>\n",
       "      <td>282.8114</td>\n",
       "      <td>-0.224697</td>\n",
       "      <td>-0.050496</td>\n",
       "      <td>Loiter</td>\n",
       "    </tr>\n",
       "    <tr>\n",
       "      <th>3</th>\n",
       "      <td>42.772497</td>\n",
       "      <td>-70.805894</td>\n",
       "      <td>2018-02-27T21:30:36+00:00</td>\n",
       "      <td>0.19</td>\n",
       "      <td>0.19</td>\n",
       "      <td>282.8091</td>\n",
       "      <td>-0.227557</td>\n",
       "      <td>-0.048414</td>\n",
       "      <td>Loiter</td>\n",
       "    </tr>\n",
       "    <tr>\n",
       "      <th>4</th>\n",
       "      <td>42.772497</td>\n",
       "      <td>-70.805894</td>\n",
       "      <td>2018-02-27T21:30:36+00:00</td>\n",
       "      <td>0.20</td>\n",
       "      <td>0.20</td>\n",
       "      <td>282.7798</td>\n",
       "      <td>-0.233086</td>\n",
       "      <td>0.002836</td>\n",
       "      <td>Loiter</td>\n",
       "    </tr>\n",
       "    <tr>\n",
       "      <th>5</th>\n",
       "      <td>42.772497</td>\n",
       "      <td>-70.805894</td>\n",
       "      <td>2018-02-27T21:30:36+00:00</td>\n",
       "      <td>0.21</td>\n",
       "      <td>0.21</td>\n",
       "      <td>282.7762</td>\n",
       "      <td>-0.227408</td>\n",
       "      <td>-0.001891</td>\n",
       "      <td>Loiter</td>\n",
       "    </tr>\n",
       "    <tr>\n",
       "      <th>6</th>\n",
       "      <td>42.772497</td>\n",
       "      <td>-70.805894</td>\n",
       "      <td>2018-02-27T21:30:36+00:00</td>\n",
       "      <td>0.21</td>\n",
       "      <td>0.21</td>\n",
       "      <td>282.7741</td>\n",
       "      <td>-0.225941</td>\n",
       "      <td>-0.006904</td>\n",
       "      <td>Loiter</td>\n",
       "    </tr>\n",
       "    <tr>\n",
       "      <th>7</th>\n",
       "      <td>42.772497</td>\n",
       "      <td>-70.805894</td>\n",
       "      <td>2018-02-27T21:30:37+00:00</td>\n",
       "      <td>0.21</td>\n",
       "      <td>0.21</td>\n",
       "      <td>282.7675</td>\n",
       "      <td>-0.227552</td>\n",
       "      <td>-0.008462</td>\n",
       "      <td>Loiter</td>\n",
       "    </tr>\n",
       "    <tr>\n",
       "      <th>8</th>\n",
       "      <td>42.772497</td>\n",
       "      <td>-70.805894</td>\n",
       "      <td>2018-02-27T21:30:38+00:00</td>\n",
       "      <td>0.20</td>\n",
       "      <td>0.20</td>\n",
       "      <td>282.7540</td>\n",
       "      <td>-0.224756</td>\n",
       "      <td>-0.029324</td>\n",
       "      <td>Loiter</td>\n",
       "    </tr>\n",
       "    <tr>\n",
       "      <th>9</th>\n",
       "      <td>42.772497</td>\n",
       "      <td>-70.805892</td>\n",
       "      <td>2018-02-27T21:30:42+00:00</td>\n",
       "      <td>5.98</td>\n",
       "      <td>0.01</td>\n",
       "      <td>282.7524</td>\n",
       "      <td>-0.224325</td>\n",
       "      <td>-0.028398</td>\n",
       "      <td>Loiter</td>\n",
       "    </tr>\n",
       "  </tbody>\n",
       "</table>\n",
       "</div>"
      ],
      "text/plain": [
       "         lat        lon                       time   ele  ele2    course  \\\n",
       "0  42.772496 -70.805893  2018-02-27T21:30:33+00:00  0.16  0.16  282.8260   \n",
       "1  42.772496 -70.805894  2018-02-27T21:30:33+00:00  0.16  0.16  282.8195   \n",
       "2  42.772496 -70.805894  2018-02-27T21:30:34+00:00  0.17  0.17  282.8114   \n",
       "3  42.772497 -70.805894  2018-02-27T21:30:36+00:00  0.19  0.19  282.8091   \n",
       "4  42.772497 -70.805894  2018-02-27T21:30:36+00:00  0.20  0.20  282.7798   \n",
       "5  42.772497 -70.805894  2018-02-27T21:30:36+00:00  0.21  0.21  282.7762   \n",
       "6  42.772497 -70.805894  2018-02-27T21:30:36+00:00  0.21  0.21  282.7741   \n",
       "7  42.772497 -70.805894  2018-02-27T21:30:37+00:00  0.21  0.21  282.7675   \n",
       "8  42.772497 -70.805894  2018-02-27T21:30:38+00:00  0.20  0.20  282.7540   \n",
       "9  42.772497 -70.805892  2018-02-27T21:30:42+00:00  5.98  0.01  282.7524   \n",
       "\n",
       "       roll     pitch    mode  \n",
       "0 -0.215672 -0.055218  Loiter  \n",
       "1 -0.217306 -0.051144  Loiter  \n",
       "2 -0.224697 -0.050496  Loiter  \n",
       "3 -0.227557 -0.048414  Loiter  \n",
       "4 -0.233086  0.002836  Loiter  \n",
       "5 -0.227408 -0.001891  Loiter  \n",
       "6 -0.225941 -0.006904  Loiter  \n",
       "7 -0.227552 -0.008462  Loiter  \n",
       "8 -0.224756 -0.029324  Loiter  \n",
       "9 -0.224325 -0.028398  Loiter  "
      ]
     },
     "execution_count": 35,
     "metadata": {},
     "output_type": "execute_result"
    }
   ],
   "source": [
    "# Parse GPX and extract components into dataframe\n",
    "tree = etree.parse(logfile)\n",
    "\n",
    "# latitude and longitude\n",
    "elist = tree.xpath('./def:trk//def:trkpt',namespaces=namespace)\n",
    "gpxdf = pd.DataFrame([e.values() for e in elist], columns=['lat', 'lon']).apply(pd.to_numeric)\n",
    "\n",
    "# all other tags\n",
    "taglist = ['time', 'ele', 'ele2', 'course', 'roll', 'pitch', 'mode']\n",
    "for tag in taglist:\n",
    "    gpxdf = gpxdf.join(pd.to_numeric(gpx_tag_to_pdseries(tree, namespace, tag), errors='ignore'))\n",
    "\n",
    "# Check number of records and number of unique times \n",
    "print (\"number of records: \", len(gpxdf.index))\n",
    "print (\"number of unique times: {}\\n\".format(len(gpxdf.time.unique())))\n",
    "\n",
    "pd.set_option('max_rows', 20)\n",
    "# gpxdf\n",
    "gpxdf.head(10)"
   ]
  },
  {
   "cell_type": "markdown",
   "metadata": {},
   "source": [
    "### Add datetime field to gpxdf dataframe and export CSV\n",
    "\n",
    "Convert the time field to: \n",
    "\n",
    "- datetime_utc: datetime in UTC\n",
    "- epoch_utc: Unix epoch time, which counts seconds from January 1, 1970"
   ]
  },
  {
   "cell_type": "code",
   "execution_count": 8,
   "metadata": {},
   "outputs": [
    {
     "data": {
      "text/html": [
       "<div>\n",
       "<style>\n",
       "    .dataframe thead tr:only-child th {\n",
       "        text-align: right;\n",
       "    }\n",
       "\n",
       "    .dataframe thead th {\n",
       "        text-align: left;\n",
       "    }\n",
       "\n",
       "    .dataframe tbody tr th {\n",
       "        vertical-align: top;\n",
       "    }\n",
       "</style>\n",
       "<table border=\"1\" class=\"dataframe\">\n",
       "  <thead>\n",
       "    <tr style=\"text-align: right;\">\n",
       "      <th></th>\n",
       "      <th>lat</th>\n",
       "      <th>lon</th>\n",
       "      <th>time</th>\n",
       "      <th>ele</th>\n",
       "      <th>ele2</th>\n",
       "      <th>course</th>\n",
       "      <th>roll</th>\n",
       "      <th>pitch</th>\n",
       "      <th>mode</th>\n",
       "      <th>datetime_utc</th>\n",
       "      <th>epoch_utc</th>\n",
       "    </tr>\n",
       "  </thead>\n",
       "  <tbody>\n",
       "    <tr>\n",
       "      <th>0</th>\n",
       "      <td>42.7724957</td>\n",
       "      <td>-70.8058934</td>\n",
       "      <td>2018-02-27T21:30:33+00:00</td>\n",
       "      <td>0.16</td>\n",
       "      <td>0.16</td>\n",
       "      <td>282.826</td>\n",
       "      <td>-0.2156724</td>\n",
       "      <td>-0.05521824</td>\n",
       "      <td>Loiter</td>\n",
       "      <td>2018-02-27 21:30:33</td>\n",
       "      <td>1519767033</td>\n",
       "    </tr>\n",
       "    <tr>\n",
       "      <th>1</th>\n",
       "      <td>42.7724957</td>\n",
       "      <td>-70.8058936</td>\n",
       "      <td>2018-02-27T21:30:33+00:00</td>\n",
       "      <td>0.16</td>\n",
       "      <td>0.16</td>\n",
       "      <td>282.8195</td>\n",
       "      <td>-0.2173062</td>\n",
       "      <td>-0.05114431</td>\n",
       "      <td>Loiter</td>\n",
       "      <td>2018-02-27 21:30:33</td>\n",
       "      <td>1519767033</td>\n",
       "    </tr>\n",
       "    <tr>\n",
       "      <th>2</th>\n",
       "      <td>42.7724957</td>\n",
       "      <td>-70.8058938</td>\n",
       "      <td>2018-02-27T21:30:34+00:00</td>\n",
       "      <td>0.17</td>\n",
       "      <td>0.17</td>\n",
       "      <td>282.8114</td>\n",
       "      <td>-0.2246969</td>\n",
       "      <td>-0.05049574</td>\n",
       "      <td>Loiter</td>\n",
       "      <td>2018-02-27 21:30:34</td>\n",
       "      <td>1519767034</td>\n",
       "    </tr>\n",
       "    <tr>\n",
       "      <th>...</th>\n",
       "      <td>...</td>\n",
       "      <td>...</td>\n",
       "      <td>...</td>\n",
       "      <td>...</td>\n",
       "      <td>...</td>\n",
       "      <td>...</td>\n",
       "      <td>...</td>\n",
       "      <td>...</td>\n",
       "      <td>...</td>\n",
       "      <td>...</td>\n",
       "      <td>...</td>\n",
       "    </tr>\n",
       "    <tr>\n",
       "      <th>8771</th>\n",
       "      <td>42.7725573</td>\n",
       "      <td>-70.8058686</td>\n",
       "      <td>2018-02-27T21:52:02+00:00</td>\n",
       "      <td>3.82</td>\n",
       "      <td>-2.32</td>\n",
       "      <td>317.6355</td>\n",
       "      <td>4.827561</td>\n",
       "      <td>0.2924751</td>\n",
       "      <td>Loiter</td>\n",
       "      <td>2018-02-27 21:52:02</td>\n",
       "      <td>1519768322</td>\n",
       "    </tr>\n",
       "    <tr>\n",
       "      <th>8772</th>\n",
       "      <td>42.7725572</td>\n",
       "      <td>-70.8058687</td>\n",
       "      <td>2018-02-27T21:52:03+00:00</td>\n",
       "      <td>3.83</td>\n",
       "      <td>-2.31</td>\n",
       "      <td>317.6285</td>\n",
       "      <td>4.833805</td>\n",
       "      <td>0.2962404</td>\n",
       "      <td>Loiter</td>\n",
       "      <td>2018-02-27 21:52:03</td>\n",
       "      <td>1519768323</td>\n",
       "    </tr>\n",
       "    <tr>\n",
       "      <th>8773</th>\n",
       "      <td>42.7725572</td>\n",
       "      <td>-70.8058688</td>\n",
       "      <td>2018-02-27T21:52:03+00:00</td>\n",
       "      <td>3.82</td>\n",
       "      <td>-2.32</td>\n",
       "      <td>317.6287</td>\n",
       "      <td>4.838921</td>\n",
       "      <td>0.2951059</td>\n",
       "      <td>Loiter</td>\n",
       "      <td>2018-02-27 21:52:03</td>\n",
       "      <td>1519768323</td>\n",
       "    </tr>\n",
       "  </tbody>\n",
       "</table>\n",
       "<p>8774 rows × 11 columns</p>\n",
       "</div>"
      ],
      "text/plain": [
       "             lat          lon                       time   ele   ele2  \\\n",
       "0     42.7724957  -70.8058934  2018-02-27T21:30:33+00:00  0.16   0.16   \n",
       "1     42.7724957  -70.8058936  2018-02-27T21:30:33+00:00  0.16   0.16   \n",
       "2     42.7724957  -70.8058938  2018-02-27T21:30:34+00:00  0.17   0.17   \n",
       "...          ...          ...                        ...   ...    ...   \n",
       "8771  42.7725573  -70.8058686  2018-02-27T21:52:02+00:00  3.82  -2.32   \n",
       "8772  42.7725572  -70.8058687  2018-02-27T21:52:03+00:00  3.83  -2.31   \n",
       "8773  42.7725572  -70.8058688  2018-02-27T21:52:03+00:00  3.82  -2.32   \n",
       "\n",
       "        course        roll        pitch    mode        datetime_utc  \\\n",
       "0      282.826  -0.2156724  -0.05521824  Loiter 2018-02-27 21:30:33   \n",
       "1     282.8195  -0.2173062  -0.05114431  Loiter 2018-02-27 21:30:33   \n",
       "2     282.8114  -0.2246969  -0.05049574  Loiter 2018-02-27 21:30:34   \n",
       "...        ...         ...          ...     ...                 ...   \n",
       "8771  317.6355    4.827561    0.2924751  Loiter 2018-02-27 21:52:02   \n",
       "8772  317.6285    4.833805    0.2962404  Loiter 2018-02-27 21:52:03   \n",
       "8773  317.6287    4.838921    0.2951059  Loiter 2018-02-27 21:52:03   \n",
       "\n",
       "       epoch_utc  \n",
       "0     1519767033  \n",
       "1     1519767033  \n",
       "2     1519767034  \n",
       "...          ...  \n",
       "8771  1519768322  \n",
       "8772  1519768323  \n",
       "8773  1519768323  \n",
       "\n",
       "[8774 rows x 11 columns]"
      ]
     },
     "execution_count": 8,
     "metadata": {},
     "output_type": "execute_result"
    }
   ],
   "source": [
    "# Convert values in 'time' field to datetime UTC and convert datetime UTC to Epoch UTC\n",
    "gpxdf['datetime_utc'] = pd.to_datetime(gpxdf['time'], format = tfmt_gpx)\n",
    "gpxdf['epoch_utc'] = gpxdf['datetime_utc'].astype(np.int64) // 10**9\n",
    "\n",
    "# Export CSV: logfile_gpx.csv stored in same folder as logfile\n",
    "outcsv = '{}_gpx.csv'.format(os.path.splitext(logfile)[0])\n",
    "gpxdf.to_csv(outcsv, index=False)\n",
    "print (\"Exported output CSV file called: {}\".format(outcsv))\n",
    "\n",
    "gpxdf"
   ]
  },
  {
   "cell_type": "markdown",
   "metadata": {},
   "source": [
    "## Plot the flight path, showing interpolated portions "
   ]
  },
  {
   "cell_type": "code",
   "execution_count": 20,
   "metadata": {},
   "outputs": [
    {
     "data": {
      "image/png": "[encoded data removed]",
      "text/plain": [
       "<matplotlib.figure.Figure at 0x1118d8860>"
      ]
     },
     "metadata": {},
     "output_type": "display_data"
    },
    {
     "name": "stdout",
     "output_type": "stream",
     "text": [
      "Exported PNG file of plot called: /Volumes/stor/Projects/UAS_SfM/EROS_plumisland_test/test2/tlogs/f12_gpxtrack.png\n"
     ]
    }
   ],
   "source": [
    "outplot = os.path.join(homedir, \"{}_gpxtrack.png\".format(os.path.splitext(logfile)[0]))\n",
    "\n",
    "# Lat, Lon\n",
    "fig = plt.figure(figsize=(13,5))\n",
    "ax = fig.add_subplot(121)\n",
    "ax.plot(gpxdf.lon,gpxdf.lat,'.c', label='GPX points')\n",
    "ax.plot(gpxdf.lon,gpxdf.lat,'-k', label='Interpolated line')\n",
    "ax.legend()\n",
    "\n",
    "# Time, Elevation\n",
    "ax = fig.add_subplot(122)\n",
    "ax.plot(gpxdf.datetime_utc, gpxdf.ele,'.c', label='GPX points')\n",
    "ax.plot(gpxdf.datetime_utc, gpxdf.ele,'-k', label='Interpolated line')\n",
    "ax.legend()\n",
    "plt.show()\n",
    "fig.savefig(outplot)\n",
    "fig.clear()\n",
    "\n",
    "print (\"Exported PNG file of plot called: {}\".format(outplot))"
   ]
  },
  {
   "cell_type": "markdown",
   "metadata": {},
   "source": [
    "## Work with images\n",
    "Replace original images because this will consider current filenames \"original\" and will replace. "
   ]
  },
  {
   "cell_type": "code",
   "execution_count": 12,
   "metadata": {},
   "outputs": [
    {
     "name": "stdout",
     "output_type": "stream",
     "text": [
      "Found 406 images in /Users/esturdivant/Documents/Projects/Ontario/f39/f39.\n",
      "(406, 9)\n"
     ]
    },
    {
     "data": {
      "image/png": "[encoded data removed]",
      "text/plain": [
       "<matplotlib.figure.Figure at 0x11f9b9e10>"
      ]
     },
     "metadata": {},
     "output_type": "display_data"
    },
    {
     "name": "stdout",
     "output_type": "stream",
     "text": [
      "First file: A2018265.JPG, time: 2017-07-14 16:15:52+00:00\n",
      "Last file: A2018670.JPG, time: 2017-07-14 16:29:22+00:00\n",
      "GPX data: /Users/esturdivant/Documents/Projects/Ontario/f39/f39.gpx from 2017-07-14 16:09:03+00:00 to 2017-07-14 16:29:26+00:00\n"
     ]
    }
   ],
   "source": [
    "# List all JPEGS in imagefolder\n",
    "flist=[os.path.join(imagefolder,f) for f in os.listdir(imagefolder) if f.lower().endswith('.jpg')]\n",
    "print(\"Found {} images in {}.\".format(len(flist),imagefolder))\n",
    "\n",
    "# Get filename and DateTimeOriginal of each photo\n",
    "#FIXME: how to get tzinfo from EXIF? Looks like these were recorded in UTC...\n",
    "# make datetime timezone aware (UTC) for later comparison with GPX times\n",
    "dt = [pytz.utc.localize(DT.strptime(Image.open(f)._getexif()[36867], tfmt_exif)) for f in flist] \n",
    "imgdf = pd.DataFrame({'orig_name': [os.path.basename(f) for f in flist],\n",
    "                      'time_utc': dt,\n",
    "                      'time_epoch': [t.timestamp() for t in dt],\n",
    "                      'time_iso': [t.strftime(iso_fmt) for t in dt],\n",
    "                      'new_name': np.nan,\n",
    "                      'lon': np.nan,\n",
    "                      'lat': np.nan,\n",
    "                      'ele': np.nan,\n",
    "                      'interpolated': 0}, \n",
    "                     columns=['new_name', 'lat', 'lon', 'ele', 'time_utc', 'orig_name', 'time_epoch', 'time_iso', 'interpolated'])\n",
    "\n",
    "# Sort by time in ascending order \n",
    "imgdf.sort_values('time_epoch', axis=0, inplace=True)\n",
    "\n",
    "# Export CSV\n",
    "imgdf.to_csv(os.path.join(homedir, '{}_exiftime1.csv'.format(os.path.basename(imagefolder))), index=False)\n",
    "# imgdf.head()\n",
    "\n",
    "print(imgdf.shape)\n",
    "#%% Plot image and GPX times\n",
    "fig.clear()\n",
    "fig = plt.figure()\n",
    "ax = fig.add_subplot(111)\n",
    "ax.plot(gpxdf.time_utc, gpxdf.ele,'.c')\n",
    "ax.plot(imgdf.time_utc, np.tile(gpxdf.ele.max(), imgdf.shape[0]),'-k')# gpxdf.ele.max() # np.zeros(shape=imgdf.time_utc.shape)+np.fromstring(max(gpxdf.ele), dtype=np.uint32)\n",
    "plt.show()\n",
    "fig.clear()\n",
    "\n",
    "# print first and last image name and times\n",
    "print(\"First file: {}, time: {}\".format(imgdf.orig_name.iloc[0], imgdf.time_utc.iloc[0]))\n",
    "print(\"Last file: {}, time: {}\".format(imgdf.orig_name.iloc[-1], imgdf.time_utc.iloc[-1]))\n",
    "# print first and last times in .gpx file\n",
    "print(\"GPX data: {} from {} to {}\".format(logfile, gpxdf.time_utc.iloc[0],gpxdf.time_utc.iloc[-1]))"
   ]
  },
  {
   "cell_type": "markdown",
   "metadata": {},
   "source": [
    "### Rename photos"
   ]
  },
  {
   "cell_type": "code",
   "execution_count": 13,
   "metadata": {
    "collapsed": true,
    "scrolled": true
   },
   "outputs": [],
   "source": [
    "# Rename photos\n",
    "#TODO move/copy them first? / don't run if the names have already been changed...\n",
    "if rename_photos:\n",
    "    new_imgdir = imagefolder+'_renamed'\n",
    "    if not os.path.exists(new_imgdir):\n",
    "        shutil.copytree(imagefolder, new_imgdir)\n",
    "for idx, row in imgdf.iterrows():\n",
    "    img = row.orig_name\n",
    "    namestr = \"{}_{}_{}_{}\".format(survey_id, fc_id, row.time_iso, img) # ->\n",
    "    if rename_photos:\n",
    "        os.rename(os.path.join(imagefolder, img), os.path.join(new_imgdir, namestr))\n",
    "    imgdf.loc[idx, 'new_name'] = namestr"
   ]
  },
  {
   "cell_type": "markdown",
   "metadata": {},
   "source": [
    "# Interpolation"
   ]
  },
  {
   "cell_type": "code",
   "execution_count": 14,
   "metadata": {
    "scrolled": true
   },
   "outputs": [
    {
     "name": "stdout",
     "output_type": "stream",
     "text": [
      "GPS start: 1500048543.0\n",
      "GPS end: 1500049766.0\n",
      "\n",
      "0 image(s) not acquired between 1500048543.0 and 1500049766.0:\n"
     ]
    }
   ],
   "source": [
    "# interp1 function requires a single datetime value (doesn't accept datetime objects). Datetime objects can be compared, but both need to be either tz-aware or unaware\n",
    "timecol = 'time_epoch'\n",
    "\n",
    "# get GPS bounds\n",
    "start_gpxtime = gpxdf[timecol].min()\n",
    "end_gpxtime = gpxdf[timecol].max()\n",
    "print('GPS start: {}\\nGPS end: {}'.format(start_gpxtime, end_gpxtime))\n",
    "\n",
    "# create interpolator function\n",
    "set_interp = interp1d(gpxdf[timecol], gpxdf[['lat','lon','ele']], kind='linear', axis=0) # this works\n",
    "\n",
    "# loop through the images and interpolate .gpx data\n",
    "img_nogps = []\n",
    "for idx, row in imgdf.iterrows():\n",
    "    img_tznum = row.loc[timecol]\n",
    "    if img_tznum >= start_gpxtime and img_tznum <= end_gpxtime:\n",
    "        imgdf.loc[idx, ['lat','lon','ele']] = set_interp(img_tznum)\n",
    "    else: # image time is not within .gpx data\n",
    "        imgdf.loc[idx, ['lat','lon','ele']] = np.nan\n",
    "        img_nogps.append(row.orig_name)\n",
    "print('\\n{} image(s) not acquired between {} and {}:'.format(len(img_nogps), start_gpxtime, end_gpxtime))\n",
    "[print(img) for img in img_nogps]\n",
    "\n",
    "# Set interpolated=1 at images that do not have matching GPS time\n",
    "missing_idx = ~(imgdf[timecol].isin(gpxdf[timecol])) # All images with time logged by GPS\n",
    "imgdf.loc[missing_idx, 'interpolated'] = 1\n",
    "\n",
    "# Export CSV for import directly to Photoscan or continue on to add to EXIF\n",
    "imgdf.to_csv(os.path.join(homedir, \"{}_{}_imagelocations.csv\".format(survey_id, fc_id)), index=False)"
   ]
  },
  {
   "cell_type": "code",
   "execution_count": 15,
   "metadata": {},
   "outputs": [
    {
     "data": {
      "image/png": "[encoded data removed]",
      "text/plain": [
       "<matplotlib.figure.Figure at 0x11f763fd0>"
      ]
     },
     "metadata": {},
     "output_type": "display_data"
    },
    {
     "data": {
      "image/png": "[encoded data removed]",
      "text/plain": [
       "<matplotlib.figure.Figure at 0x11f86f9b0>"
      ]
     },
     "metadata": {},
     "output_type": "display_data"
    }
   ],
   "source": [
    "# make a bare-bones trackline and overlay image locations, sherwood direct\n",
    "#%% Plot image locations\n",
    "fig = plt.figure()\n",
    "ax = fig.add_subplot(111)\n",
    "ax.plot(gpxdf.lon, gpxdf.lat,'.c')\n",
    "ax.plot(imgdf.lon, imgdf.lat,'-k')\n",
    "plt.show()\n",
    "fig.savefig(os.path.join(homedir, \"{}_image_track.png\".format(os.path.basename(imagefolder))))\n",
    "fig.clear()\n",
    "\n",
    "#%% Plot\n",
    "fig = plt.figure()\n",
    "ax = fig.add_subplot(111)\n",
    "ax.plot(gpxdf.time_utc, gpxdf.ele,'.c')\n",
    "ax.plot(imgdf.time_utc, imgdf.ele,'-k')\n",
    "plt.show()\n",
    "fig.savefig(os.path.join(homedir, \"{}_image_elevations.png\".format(os.path.basename(imagefolder))))\n",
    "fig.clear()"
   ]
  },
  {
   "cell_type": "code",
   "execution_count": 16,
   "metadata": {
    "collapsed": true
   },
   "outputs": [],
   "source": [
    "for idx, row in imgdf.iterrows():\n",
    "    values = row.to_dict()\n",
    "    values['fullimg'] = os.path.join(new_imgdir, row['new_name'])\n",
    "    cmd = \"\"\"exiftool -GPSLatitude=\"{lat} \" -GPSLatitudeRef=\"N \" -GPSLongitudeRef=\"W \" \"\"\"\\\n",
    "          \"\"\"-GPSAltitude=\"{ele} \" {fullimg}\"\"\".format(**values)\n",
    "    subprocess.check_call(cmd, shell=True)"
   ]
  },
  {
   "cell_type": "code",
   "execution_count": null,
   "metadata": {
    "collapsed": true
   },
   "outputs": [],
   "source": [
    "print(row.to_dict()['lat'])"
   ]
  },
  {
   "cell_type": "code",
   "execution_count": null,
   "metadata": {
    "collapsed": true
   },
   "outputs": [],
   "source": []
  }
 ],
 "metadata": {
  "anaconda-cloud": {},
  "kernelspec": {
   "display_name": "Python [conda env:IOOS3]",
   "language": "python",
   "name": "conda-env-IOOS3-py"
  },
  "language_info": {
   "codemirror_mode": {
    "name": "ipython",
    "version": 3
   },
   "file_extension": ".py",
   "mimetype": "text/x-python",
   "name": "python",
   "nbconvert_exporter": "python",
   "pygments_lexer": "ipython3",
   "version": "3.6.1"
  }
 },
 "nbformat": 4,
 "nbformat_minor": 2
}
