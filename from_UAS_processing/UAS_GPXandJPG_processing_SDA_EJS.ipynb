{
 "cells": [
  {
   "cell_type": "markdown",
   "metadata": {},
   "source": [
    "### Import packages and define the namespace for the GPX schema\n",
    "\n",
    "If you get an error here, you will have to add packages to your Python distribution"
   ]
  },
  {
   "cell_type": "code",
   "execution_count": 2,
   "metadata": {
    "collapsed": true
   },
   "outputs": [],
   "source": [
    "import os, string, copy, sys, subprocess\n",
    "import shutil\n",
    "import datetime as datetime\n",
    "import pandas as pd\n",
    "import numpy as np\n",
    "import matplotlib.pyplot as plt\n",
    "from lxml import etree\n",
    "from scipy.interpolate import interp1d\n",
    "from PIL import Image, ExifTags\n",
    "import mplleaflet\n",
    "import ipyleaflet as ipyl\n",
    "\n",
    "%matplotlib inline"
   ]
  },
  {
   "cell_type": "markdown",
   "metadata": {},
   "source": [
    "## Input Variables "
   ]
  },
  {
   "cell_type": "code",
   "execution_count": 3,
   "metadata": {},
   "outputs": [
    {
     "name": "stdout",
     "output_type": "stream",
     "text": [
      "input nav file is: /Volumes/stor/Projects/UAS_SfM/EROS_plumisland_test/test1/tlogs/f6.gpx\n",
      "output nav file is: /Volumes/stor/Projects/UAS_SfM/EROS_plumisland_test/test1/tlogs/f6_gpx.csv\n",
      "working JPEG dir is: /Volumes/stor/Projects/UAS_SfM/EROS_plumisland_test/test1/images/f6\n",
      "processed JPEG dir is: /Volumes/stor/Projects/UAS_SfM/EROS_plumisland_test/test1/images/f6_new/\n"
     ]
    }
   ],
   "source": [
    "# unique to local files:\n",
    "\n",
    "homedir = r'/Volumes/stor/Projects/UAS_SfM/EROS_plumisland_test/test1'\n",
    "logfile = r'/Volumes/stor/Projects/UAS_SfM/EROS_plumisland_test/test1/tlogs/f6.gpx'\n",
    "imagefolder = r'/Volumes/stor/Projects/UAS_SfM/EROS_plumisland_test/test1/images/f6'\n",
    "\n",
    "# homedir = '/Data/2018_PlumIsland/2018_015_FA_PlumIs_Feb/test_script/ricoh'\n",
    "# homedir = input(\"Which directory contains your raw images and telemetry data (e.g. {})? \".format(homedir))\n",
    "\n",
    "flight = 'f6'\n",
    "# flight = input(\"Which flight? Must match folder name in tlogs folder (e.g. f6). \")\n",
    "logfile = os.path.join(homedir,'tlogs/', flight+'.gpx')\n",
    "imagefolder = os.path.join(homedir,'images/', flight)\n",
    "\n",
    "navcsvoutfile = os.path.splitext(logfile)[0]+'_gpx.csv'\n",
    "imgoutdir = imagefolder+'_new/'\n",
    "print(\"input nav file is: {}\\noutput nav file is: {}\\nworking JPEG dir is: {}\\nprocessed JPEG dir is: {}\".format(logfile, navcsvoutfile, imagefolder, imgoutdir))\n",
    "\n",
    "# Mission info - would be nice for logfile and image folder names to correspond to naming convention, as below\n",
    "\n",
    "## use first line to hardcode the FA #, use next line to prompt for it\n",
    "fan = '2018-015-FA' # raw_input('Field activity number (e.g. \"2017-010-FA\"): ')\n",
    "surveyid = fan\n",
    "#fan = input(\"What is the field activity identifier (e.g. 2018-015-FA)? \")\n",
    "#uas_id = 'u045' # raw_input('U-number of mission (e.g. \"u031\"): ')\n",
    "\n",
    "#fc_id = 'f06r01' # raw_input('Flight number (e.g. \"04\"): ') raw_input('Camera code (e.g. \"r01\"): ')\n",
    "fc_id = 'r01' # raw_input('Flight number (e.g. \"04\"): ') raw_input('Camera code (e.g. \"r01\"): ')\n",
    "#fc_id = input(\"What is the sensor identifier (e.g. r01)? \") \n",
    "    \n",
    "# WHSC EXIF population\n",
    "credit = \"U.S. Geological Survey\"\n",
    "comment = \"Low-altitude aerial photograph of Plum Island, MA from survey {} (https://cmgds.marine.usgs.gov/fan_info.php?fa={}).\".format(fan, fan)\n",
    "keywords = \"Plum Island, Massachusetts, {}, UAS, nadir, USGS\".format(fan)\n",
    "\n",
    "# Standard values:\n",
    "namespace = {'def': 'http://www.topografix.com/GPX/1/1'}\n",
    "tfmt_exif = '%Y:%m:%d %H:%M:%S' #e.g. 2017-05-04 14:14:12\n",
    "tfmt_gpx = '%Y-%m-%dT%H:%M:%S' #e.g. 2017-05-04T14:14:12-04:00\n",
    "iso_fmt=\"%Y%m%dT%H%M%SZ\"\n",
    "survey_id = fan.replace(\"-\",\"\")"
   ]
  },
  {
   "cell_type": "markdown",
   "metadata": {},
   "source": [
    "### Verify the user input data looks right before continuing"
   ]
  },
  {
   "cell_type": "code",
   "execution_count": 4,
   "metadata": {},
   "outputs": [
    {
     "name": "stdout",
     "output_type": "stream",
     "text": [
      "input data: FA = 2018-015-FA    flight = f6    sensor = r01\n",
      "Does the input data above look right?:y\n",
      "Great!! Looks like the logfile is present as well. Carry on.\n"
     ]
    }
   ],
   "source": [
    "input_check = \"FA = {}    flight = {}    sensor = {}\".format(fan, flight, fc_id)\n",
    "print (\"input data: \"+ input_check)\n",
    "\n",
    "while True:\n",
    "   answer = input('Does the input data above look right?:')\n",
    "   if answer.lower().startswith(\"y\"):\n",
    "        break\n",
    "   elif answer.lower().startswith(\"n\"):\n",
    "      print(\"ok, try to re-run the script and enter the correct FA, flight and sensor\")\n",
    "      sys.exit()\n",
    "\n",
    "if not os.path.isfile(logfile):\n",
    "    print(\"We don't see the specified file: {}\".format(logfile))\n",
    "    sys.exit()\n",
    "else:\n",
    "    print(\"Great!! Looks like the logfile is present as well. Carry on.\")\n",
    "    \n",
    "# print(\"Great!! Carry on\")"
   ]
  },
  {
   "cell_type": "markdown",
   "metadata": {},
   "source": [
    "## Functions"
   ]
  },
  {
   "cell_type": "code",
   "execution_count": 5,
   "metadata": {
    "collapsed": true
   },
   "outputs": [],
   "source": [
    "def gpx_tag_to_pdseries(tree, namespace, tag):\n",
    "    elist = tree.xpath('./def:trk//def:trkpt//def:'+tag, namespaces=namespace)\n",
    "    ser = pd.Series([e.text for e in elist], name=tag)\n",
    "    return(ser)\n",
    "\n",
    "def write_WHSC_exiftags(imgdir, credit, comment, keywords):\n",
    "    # Tags that will be identical for all images in the folder\n",
    "    tagvalues = {}\n",
    "    tagvalues['imgdir'] = imagefolder\n",
    "    tagvalues['credit'] = credit\n",
    "    tagvalues['artist'] = \"AIM Group\"\n",
    "    tagvalues['contact'] = \"WHSC_data_contact@usgs.gov\"\n",
    "    tagvalues['comment'] = comment\n",
    "    tagvalues['keywords'] = keywords\n",
    "    tagvalues['copyright'] = \"Public Domain. Please credit {credit}\".format(**tagvalues)\n",
    "    # Write to EXIF\n",
    "    cmd = \"\"\"exiftool -Artist=\"{artist} \" -Credit=\"{credit} \" -Contact=\"{contact} \" -comment=\"{comment} \" -sep \", \" -keywords=\"{keywords} \" -Caption=\"{comment} \" -Copyright=\"{copyright} \" -CopyrightNotice=\"{copyright} \" -Caption-Abstract=\"{comment} \" -ImageDescription=\"{comment} \" {imgdir}\"\"\".format(**tagvalues)\n",
    "    subprocess.check_call(cmd, shell=True)\n",
    "    return(True)"
   ]
  },
  {
   "cell_type": "markdown",
   "metadata": {},
   "source": [
    "## Parse GPX file"
   ]
  },
  {
   "cell_type": "code",
   "execution_count": 7,
   "metadata": {},
   "outputs": [
    {
     "name": "stdout",
     "output_type": "stream",
     "text": [
      "number of records:  6565\n",
      "number of unique times: 925\n",
      "\n"
     ]
    },
    {
     "data": {
      "text/html": [
       "<div>\n",
       "<style>\n",
       "    .dataframe thead tr:only-child th {\n",
       "        text-align: right;\n",
       "    }\n",
       "\n",
       "    .dataframe thead th {\n",
       "        text-align: left;\n",
       "    }\n",
       "\n",
       "    .dataframe tbody tr th {\n",
       "        vertical-align: top;\n",
       "    }\n",
       "</style>\n",
       "<table border=\"1\" class=\"dataframe\">\n",
       "  <thead>\n",
       "    <tr style=\"text-align: right;\">\n",
       "      <th></th>\n",
       "      <th>lat</th>\n",
       "      <th>lon</th>\n",
       "      <th>time</th>\n",
       "      <th>ele</th>\n",
       "      <th>ele2</th>\n",
       "      <th>course</th>\n",
       "      <th>roll</th>\n",
       "      <th>pitch</th>\n",
       "      <th>mode</th>\n",
       "    </tr>\n",
       "  </thead>\n",
       "  <tbody>\n",
       "    <tr>\n",
       "      <th>0</th>\n",
       "      <td>42.772645</td>\n",
       "      <td>-70.805902</td>\n",
       "      <td>2018-02-27T19:10:13+00:00</td>\n",
       "      <td>9.63</td>\n",
       "      <td>-0.37</td>\n",
       "      <td>320.8459</td>\n",
       "      <td>0.649377</td>\n",
       "      <td>0.709408</td>\n",
       "      <td>Loiter</td>\n",
       "    </tr>\n",
       "    <tr>\n",
       "      <th>1</th>\n",
       "      <td>42.772645</td>\n",
       "      <td>-70.805902</td>\n",
       "      <td>2018-02-27T19:10:13+00:00</td>\n",
       "      <td>9.67</td>\n",
       "      <td>-0.33</td>\n",
       "      <td>320.8288</td>\n",
       "      <td>0.644466</td>\n",
       "      <td>0.751076</td>\n",
       "      <td>Loiter</td>\n",
       "    </tr>\n",
       "    <tr>\n",
       "      <th>2</th>\n",
       "      <td>42.772645</td>\n",
       "      <td>-70.805902</td>\n",
       "      <td>2018-02-27T19:10:13+00:00</td>\n",
       "      <td>9.73</td>\n",
       "      <td>-0.27</td>\n",
       "      <td>320.8474</td>\n",
       "      <td>0.616625</td>\n",
       "      <td>0.811612</td>\n",
       "      <td>Loiter</td>\n",
       "    </tr>\n",
       "    <tr>\n",
       "      <th>3</th>\n",
       "      <td>42.772645</td>\n",
       "      <td>-70.805902</td>\n",
       "      <td>2018-02-27T19:10:14+00:00</td>\n",
       "      <td>9.85</td>\n",
       "      <td>-0.15</td>\n",
       "      <td>320.9413</td>\n",
       "      <td>0.562210</td>\n",
       "      <td>0.906102</td>\n",
       "      <td>Loiter</td>\n",
       "    </tr>\n",
       "    <tr>\n",
       "      <th>4</th>\n",
       "      <td>42.772645</td>\n",
       "      <td>-70.805902</td>\n",
       "      <td>2018-02-27T19:10:14+00:00</td>\n",
       "      <td>9.88</td>\n",
       "      <td>-0.12</td>\n",
       "      <td>320.9644</td>\n",
       "      <td>0.557802</td>\n",
       "      <td>0.921579</td>\n",
       "      <td>Loiter</td>\n",
       "    </tr>\n",
       "  </tbody>\n",
       "</table>\n",
       "</div>"
      ],
      "text/plain": [
       "         lat        lon                       time   ele  ele2    course  \\\n",
       "0  42.772645 -70.805902  2018-02-27T19:10:13+00:00  9.63 -0.37  320.8459   \n",
       "1  42.772645 -70.805902  2018-02-27T19:10:13+00:00  9.67 -0.33  320.8288   \n",
       "2  42.772645 -70.805902  2018-02-27T19:10:13+00:00  9.73 -0.27  320.8474   \n",
       "3  42.772645 -70.805902  2018-02-27T19:10:14+00:00  9.85 -0.15  320.9413   \n",
       "4  42.772645 -70.805902  2018-02-27T19:10:14+00:00  9.88 -0.12  320.9644   \n",
       "\n",
       "       roll     pitch    mode  \n",
       "0  0.649377  0.709408  Loiter  \n",
       "1  0.644466  0.751076  Loiter  \n",
       "2  0.616625  0.811612  Loiter  \n",
       "3  0.562210  0.906102  Loiter  \n",
       "4  0.557802  0.921579  Loiter  "
      ]
     },
     "execution_count": 7,
     "metadata": {},
     "output_type": "execute_result"
    }
   ],
   "source": [
    "# Parse GPX and extract components into dataframe\n",
    "tree = etree.parse(logfile)\n",
    "\n",
    "# latitude and longitude\n",
    "elist = tree.xpath('./def:trk//def:trkpt',namespaces=namespace)\n",
    "gpxdf = pd.DataFrame([e.values() for e in elist], columns=['lat', 'lon']).apply(pd.to_numeric)\n",
    "\n",
    "# all tags (inc time)\n",
    "taglist = ['time', 'ele', 'ele2', 'course', 'roll', 'pitch', 'mode']\n",
    "for tag in taglist:\n",
    "    gpxdf = gpxdf.join(pd.to_numeric(gpx_tag_to_pdseries(tree, namespace, tag), errors='ignore'))\n",
    "\n",
    "# Check number of records and number of unique times \n",
    "print (\"number of records: \", len(gpxdf.index))\n",
    "print (\"number of unique times: {}\\n\".format(len(gpxdf.time.unique())))\n",
    "\n",
    "gpxdf.head()"
   ]
  },
  {
   "cell_type": "markdown",
   "metadata": {},
   "source": [
    "### Add datetime field to gpxdf dataframe\n",
    "\n",
    "Convert the time field to: \n",
    "\n",
    "- datetime_utc: datetime in UTC\n",
    "- epoch_utc: Unix epoch time, which counts seconds from January 1, 1970"
   ]
  },
  {
   "cell_type": "code",
   "execution_count": 9,
   "metadata": {},
   "outputs": [
    {
     "data": {
      "text/html": [
       "<div>\n",
       "<style>\n",
       "    .dataframe thead tr:only-child th {\n",
       "        text-align: right;\n",
       "    }\n",
       "\n",
       "    .dataframe thead th {\n",
       "        text-align: left;\n",
       "    }\n",
       "\n",
       "    .dataframe tbody tr th {\n",
       "        vertical-align: top;\n",
       "    }\n",
       "</style>\n",
       "<table border=\"1\" class=\"dataframe\">\n",
       "  <thead>\n",
       "    <tr style=\"text-align: right;\">\n",
       "      <th></th>\n",
       "      <th>lat</th>\n",
       "      <th>lon</th>\n",
       "      <th>time</th>\n",
       "      <th>ele</th>\n",
       "      <th>ele2</th>\n",
       "      <th>course</th>\n",
       "      <th>roll</th>\n",
       "      <th>pitch</th>\n",
       "      <th>mode</th>\n",
       "      <th>datetime_utc</th>\n",
       "      <th>epoch_utc</th>\n",
       "    </tr>\n",
       "  </thead>\n",
       "  <tbody>\n",
       "    <tr>\n",
       "      <th>0</th>\n",
       "      <td>42.772645</td>\n",
       "      <td>-70.805902</td>\n",
       "      <td>2018-02-27T19:10:13+00:00</td>\n",
       "      <td>9.63</td>\n",
       "      <td>-0.37</td>\n",
       "      <td>320.8459</td>\n",
       "      <td>0.649377</td>\n",
       "      <td>0.709408</td>\n",
       "      <td>Loiter</td>\n",
       "      <td>2018-02-27 19:10:13</td>\n",
       "      <td>1519758613</td>\n",
       "    </tr>\n",
       "    <tr>\n",
       "      <th>1</th>\n",
       "      <td>42.772645</td>\n",
       "      <td>-70.805902</td>\n",
       "      <td>2018-02-27T19:10:13+00:00</td>\n",
       "      <td>9.67</td>\n",
       "      <td>-0.33</td>\n",
       "      <td>320.8288</td>\n",
       "      <td>0.644466</td>\n",
       "      <td>0.751076</td>\n",
       "      <td>Loiter</td>\n",
       "      <td>2018-02-27 19:10:13</td>\n",
       "      <td>1519758613</td>\n",
       "    </tr>\n",
       "    <tr>\n",
       "      <th>2</th>\n",
       "      <td>42.772645</td>\n",
       "      <td>-70.805902</td>\n",
       "      <td>2018-02-27T19:10:13+00:00</td>\n",
       "      <td>9.73</td>\n",
       "      <td>-0.27</td>\n",
       "      <td>320.8474</td>\n",
       "      <td>0.616625</td>\n",
       "      <td>0.811612</td>\n",
       "      <td>Loiter</td>\n",
       "      <td>2018-02-27 19:10:13</td>\n",
       "      <td>1519758613</td>\n",
       "    </tr>\n",
       "    <tr>\n",
       "      <th>3</th>\n",
       "      <td>42.772645</td>\n",
       "      <td>-70.805902</td>\n",
       "      <td>2018-02-27T19:10:14+00:00</td>\n",
       "      <td>9.85</td>\n",
       "      <td>-0.15</td>\n",
       "      <td>320.9413</td>\n",
       "      <td>0.562210</td>\n",
       "      <td>0.906102</td>\n",
       "      <td>Loiter</td>\n",
       "      <td>2018-02-27 19:10:14</td>\n",
       "      <td>1519758614</td>\n",
       "    </tr>\n",
       "    <tr>\n",
       "      <th>4</th>\n",
       "      <td>42.772645</td>\n",
       "      <td>-70.805902</td>\n",
       "      <td>2018-02-27T19:10:14+00:00</td>\n",
       "      <td>9.88</td>\n",
       "      <td>-0.12</td>\n",
       "      <td>320.9644</td>\n",
       "      <td>0.557802</td>\n",
       "      <td>0.921579</td>\n",
       "      <td>Loiter</td>\n",
       "      <td>2018-02-27 19:10:14</td>\n",
       "      <td>1519758614</td>\n",
       "    </tr>\n",
       "  </tbody>\n",
       "</table>\n",
       "</div>"
      ],
      "text/plain": [
       "         lat        lon                       time   ele  ele2    course  \\\n",
       "0  42.772645 -70.805902  2018-02-27T19:10:13+00:00  9.63 -0.37  320.8459   \n",
       "1  42.772645 -70.805902  2018-02-27T19:10:13+00:00  9.67 -0.33  320.8288   \n",
       "2  42.772645 -70.805902  2018-02-27T19:10:13+00:00  9.73 -0.27  320.8474   \n",
       "3  42.772645 -70.805902  2018-02-27T19:10:14+00:00  9.85 -0.15  320.9413   \n",
       "4  42.772645 -70.805902  2018-02-27T19:10:14+00:00  9.88 -0.12  320.9644   \n",
       "\n",
       "       roll     pitch    mode        datetime_utc   epoch_utc  \n",
       "0  0.649377  0.709408  Loiter 2018-02-27 19:10:13  1519758613  \n",
       "1  0.644466  0.751076  Loiter 2018-02-27 19:10:13  1519758613  \n",
       "2  0.616625  0.811612  Loiter 2018-02-27 19:10:13  1519758613  \n",
       "3  0.562210  0.906102  Loiter 2018-02-27 19:10:14  1519758614  \n",
       "4  0.557802  0.921579  Loiter 2018-02-27 19:10:14  1519758614  "
      ]
     },
     "execution_count": 9,
     "metadata": {},
     "output_type": "execute_result"
    }
   ],
   "source": [
    "# Standard values:\n",
    "namespace = {'def': 'http://www.topografix.com/GPX/1/1'}\n",
    "tfmt_exif = '%Y:%m:%d %H:%M:%S' #e.g. 2017-05-04 14:14:12\n",
    "tfmt_gpx = '%Y-%m-%dT%H:%M:%S' #e.g. 2017-05-04T14:14:12-04:00\n",
    "iso_fmt=\"%Y%m%dT%H%M%SZ\"\n",
    "\n",
    "# Convert values in 'time' field to datetime UTC and convert datetime UTC to Epoch UTC\n",
    "gpxdf['datetime_utc'] = pd.to_datetime(gpxdf['time'], format = tfmt_gpx)\n",
    "gpxdf['epoch_utc'] = gpxdf['datetime_utc'].astype(np.int64) // 10**9\n",
    "\n",
    "## this applies the local time zone offset to create a UTC epochtime value\n",
    "## March 2018 - commented out the tzoffset part for Plum Island survey - collected in UTC\n",
    "# gpxdf['epoch_utc'] = gpxdf['epoch_utc'].astype(str).astype(int) \n",
    "gpxdf.head()"
   ]
  },
  {
   "cell_type": "markdown",
   "metadata": {},
   "source": [
    "### Export (csv) and plot (png) the GPX data"
   ]
  },
  {
   "cell_type": "code",
   "execution_count": 12,
   "metadata": {},
   "outputs": [
    {
     "name": "stdout",
     "output_type": "stream",
     "text": [
      "Exported output CSV file called: /Volumes/stor/Projects/UAS_SfM/EROS_plumisland_test/test1/tlogs/f6_gpx.csv \n",
      "\n"
     ]
    },
    {
     "data": {
      "image/png": "[encoded data removed]",
      "text/plain": [
       "<matplotlib.figure.Figure at 0x11af1e4a8>"
      ]
     },
     "metadata": {},
     "output_type": "display_data"
    }
   ],
   "source": [
    "# Export CSV\n",
    "gpxdf.to_csv(navcsvoutfile, index=False)\n",
    "print (\"Exported output CSV file called:\", navcsvoutfile,\"\\n\")\n",
    "\n",
    "# Plot the flight path\n",
    "fig = plt.figure()\n",
    "plt.plot(gpxdf.lon,gpxdf.lat,'.', c='green', label=\"GPX points\")\n",
    "ax = fig.add_subplot(111)\n",
    "# how is this interpolated? Does simply indicate '-' tell it to plot as a line, which includes interpolation? \n",
    "ax.plot(gpxdf.lon,gpxdf.lat,'-', c='yellow', label=\"GPX line interp\")\n",
    "ax.legend()\n",
    "#plt.show()\n",
    "fig.savefig(os.path.join(homedir, \"{}_gpxtrack.png\".format(os.path.splitext(logfile)[0])))\n",
    "#fig.clear()"
   ]
  },
  {
   "cell_type": "markdown",
   "metadata": {},
   "source": [
    "### Plot GPX on basemap using Leaflet"
   ]
  },
  {
   "cell_type": "code",
   "execution_count": 13,
   "metadata": {},
   "outputs": [
    {
     "name": "stdout",
     "output_type": "stream",
     "text": [
      "Printing map for r01 in new window\n"
     ]
    },
    {
     "data": {
      "text/plain": [
       "0"
      ]
     },
     "execution_count": 13,
     "metadata": {},
     "output_type": "execute_result"
    }
   ],
   "source": [
    "# Plot it on a map using Leaflet and aerial photo background\n",
    "## need to figure out a way to cache the map layer or load a geotiff so we can do this offline\n",
    "\n",
    "fig = plt.figure()\n",
    "plt.plot(gpxdf.lon,gpxdf.lat,'.', c='green')\n",
    "ax = fig.add_subplot(111)\n",
    "ax.plot(gpxdf.lon,gpxdf.lat,'-', c='yellow')\n",
    "\n",
    "mplleaflet.show(tiles='esri_aerial')\n",
    "print (\"Printing map for {} in new window\".format(fc_id))\n",
    "\n",
    "## this will copy the temp leaflet html map to the tlog folder and name it the appropriate flight \n",
    "## need to figure out how to save as PNG file instead (html to png??)\n",
    "os.system(\"cp ./_map.html \" + homedir + \"/tlogs/\" + flight + \"_map.html\")"
   ]
  },
  {
   "cell_type": "code",
   "execution_count": 32,
   "metadata": {},
   "outputs": [
    {
     "data": {
      "application/vnd.jupyter.widget-view+json": {
       "model_id": "e764bfb6da5d4132a5ca7e40da8f96f2",
       "version_major": 2,
       "version_minor": 0
      },
      "text/plain": [
       "Map(basemap={'url': 'https://{s}.tile.openstreetmap.org/{z}/{x}/{y}.png', 'max_zoom': 19, 'attribution': 'Map …"
      ]
     },
     "metadata": {},
     "output_type": "display_data"
    }
   ],
   "source": [
    "# Basemap: Esri WorldImagery\n",
    "\n",
    "# get map center at middle of data bounds\n",
    "center = [np.mean([float(max(gpxdf.lat)), float(min(gpxdf.lat))]), \n",
    "          np.mean([float(max(gpxdf.lon)), float(min(gpxdf.lon))])]\n",
    "center = [np.mean([max(gpxdf.lat), min(gpxdf.lat)]), \n",
    "          np.mean([max(gpxdf.lon), min(gpxdf.lon)])]\n",
    "zoom = 15\n",
    "\n",
    "m = ipyl.Map(center=center, zoom=zoom)\n",
    "m #.add_layer(gmaps.heatmap_layer(locations))"
   ]
  },
  {
   "cell_type": "code",
   "execution_count": 16,
   "metadata": {},
   "outputs": [],
   "source": [
    "dc = ipyl.DrawControl()\n",
    "\n",
    "def handle_draw(self, action, geo_json):\n",
    "    print(action)\n",
    "    print(geo_json)\n",
    "\n",
    "dc.on_draw(handle_draw)\n",
    "m.add_control(dc)"
   ]
  },
  {
   "cell_type": "code",
   "execution_count": 33,
   "metadata": {
    "collapsed": true
   },
   "outputs": [],
   "source": [
    "import geojson\n",
    "\n",
    "def data2geojson(df):\n",
    "    features = []\n",
    "    insert_features = lambda X: features.append(\n",
    "            geojson.Feature(geometry=geojson.Point((X[\"lon\"],\n",
    "                                                    X[\"lat\"],\n",
    "                                                    X[\"ele\"])),\n",
    "                            properties=dict(time=X[\"time\"],\n",
    "                                            mode=X[\"mode\"])))\n",
    "    df.apply(insert_features, axis=1)\n",
    "    with open('map1.geojson', 'w', encoding='utf8') as fp:\n",
    "        geojson.dump(geojson.FeatureCollection(features), fp, sort_keys=True, ensure_ascii=False)\n",
    "    return(geojson.FeatureCollection(features))\n",
    "        \n",
    "flight_path = data2geojson(gpxdf)"
   ]
  },
  {
   "cell_type": "code",
   "execution_count": 35,
   "metadata": {},
   "outputs": [],
   "source": [
    "flight_map = ipyl.GeoJSON(data=flight_path)"
   ]
  },
  {
   "cell_type": "code",
   "execution_count": 36,
   "metadata": {},
   "outputs": [],
   "source": [
    "m.add_layer(flight_map)"
   ]
  },
  {
   "cell_type": "code",
   "execution_count": 37,
   "metadata": {},
   "outputs": [
    {
     "data": {
      "application/vnd.jupyter.widget-view+json": {
       "model_id": "e764bfb6da5d4132a5ca7e40da8f96f2",
       "version_major": 2,
       "version_minor": 0
      },
      "text/plain": [
       "Map(basemap={'url': 'https://{s}.tile.openstreetmap.org/{z}/{x}/{y}.png', 'max_zoom': 19, 'attribution': 'Map …"
      ]
     },
     "metadata": {},
     "output_type": "display_data"
    }
   ],
   "source": [
    "m"
   ]
  },
  {
   "cell_type": "markdown",
   "metadata": {},
   "source": [
    "## Work on the photos"
   ]
  },
  {
   "cell_type": "code",
   "execution_count": 9,
   "metadata": {},
   "outputs": [
    {
     "name": "stdout",
     "output_type": "stream",
     "text": [
      "Found 258 images in /Volumes/stor/Projects/UAS_SfM/EROS_plumisland_test/images/f6.\n"
     ]
    }
   ],
   "source": [
    "# List all JPEGS in imagefolder\n",
    "flist=[os.path.join(imagefolder,f) for f in os.listdir(imagefolder) if f.lower().endswith('.jpg')]\n",
    "print(\"Found {} images in {}.\".format(len(flist),imagefolder))\n",
    "\n",
    "# Set datetime format\n",
    "fmt = '%Y:%m:%d %H:%M:%S' #2017-05-04 14:14:12"
   ]
  },
  {
   "cell_type": "code",
   "execution_count": 10,
   "metadata": {
    "scrolled": true
   },
   "outputs": [
    {
     "data": {
      "text/html": [
       "<div>\n",
       "<style>\n",
       "    .dataframe thead tr:only-child th {\n",
       "        text-align: right;\n",
       "    }\n",
       "\n",
       "    .dataframe thead th {\n",
       "        text-align: left;\n",
       "    }\n",
       "\n",
       "    .dataframe tbody tr th {\n",
       "        vertical-align: top;\n",
       "    }\n",
       "</style>\n",
       "<table border=\"1\" class=\"dataframe\">\n",
       "  <thead>\n",
       "    <tr style=\"text-align: right;\">\n",
       "      <th></th>\n",
       "      <th>new_name</th>\n",
       "      <th>lat</th>\n",
       "      <th>lon</th>\n",
       "      <th>ele</th>\n",
       "      <th>time_utc</th>\n",
       "      <th>orig_name</th>\n",
       "      <th>time_epoch</th>\n",
       "      <th>time_iso</th>\n",
       "      <th>interpolated</th>\n",
       "    </tr>\n",
       "  </thead>\n",
       "  <tbody>\n",
       "    <tr>\n",
       "      <th>0</th>\n",
       "      <td>NaN</td>\n",
       "      <td>NaN</td>\n",
       "      <td>NaN</td>\n",
       "      <td>NaN</td>\n",
       "      <td>2018-02-27 19:18:07</td>\n",
       "      <td>P0027219.JPG</td>\n",
       "      <td>1519759087</td>\n",
       "      <td>20180227T191807Z</td>\n",
       "      <td>0</td>\n",
       "    </tr>\n",
       "    <tr>\n",
       "      <th>1</th>\n",
       "      <td>NaN</td>\n",
       "      <td>NaN</td>\n",
       "      <td>NaN</td>\n",
       "      <td>NaN</td>\n",
       "      <td>2018-02-27 19:18:09</td>\n",
       "      <td>P0027220.JPG</td>\n",
       "      <td>1519759089</td>\n",
       "      <td>20180227T191809Z</td>\n",
       "      <td>0</td>\n",
       "    </tr>\n",
       "    <tr>\n",
       "      <th>2</th>\n",
       "      <td>NaN</td>\n",
       "      <td>NaN</td>\n",
       "      <td>NaN</td>\n",
       "      <td>NaN</td>\n",
       "      <td>2018-02-27 19:18:11</td>\n",
       "      <td>P0027221.JPG</td>\n",
       "      <td>1519759091</td>\n",
       "      <td>20180227T191811Z</td>\n",
       "      <td>0</td>\n",
       "    </tr>\n",
       "    <tr>\n",
       "      <th>...</th>\n",
       "      <td>...</td>\n",
       "      <td>...</td>\n",
       "      <td>...</td>\n",
       "      <td>...</td>\n",
       "      <td>...</td>\n",
       "      <td>...</td>\n",
       "      <td>...</td>\n",
       "      <td>...</td>\n",
       "      <td>...</td>\n",
       "    </tr>\n",
       "    <tr>\n",
       "      <th>255</th>\n",
       "      <td>NaN</td>\n",
       "      <td>NaN</td>\n",
       "      <td>NaN</td>\n",
       "      <td>NaN</td>\n",
       "      <td>2018-02-27 19:26:37</td>\n",
       "      <td>P0027474.JPG</td>\n",
       "      <td>1519759597</td>\n",
       "      <td>20180227T192637Z</td>\n",
       "      <td>0</td>\n",
       "    </tr>\n",
       "    <tr>\n",
       "      <th>256</th>\n",
       "      <td>NaN</td>\n",
       "      <td>NaN</td>\n",
       "      <td>NaN</td>\n",
       "      <td>NaN</td>\n",
       "      <td>2018-02-27 19:26:39</td>\n",
       "      <td>P0027475.JPG</td>\n",
       "      <td>1519759599</td>\n",
       "      <td>20180227T192639Z</td>\n",
       "      <td>0</td>\n",
       "    </tr>\n",
       "    <tr>\n",
       "      <th>257</th>\n",
       "      <td>NaN</td>\n",
       "      <td>NaN</td>\n",
       "      <td>NaN</td>\n",
       "      <td>NaN</td>\n",
       "      <td>2018-02-27 19:26:41</td>\n",
       "      <td>P0027476.JPG</td>\n",
       "      <td>1519759601</td>\n",
       "      <td>20180227T192641Z</td>\n",
       "      <td>0</td>\n",
       "    </tr>\n",
       "  </tbody>\n",
       "</table>\n",
       "<p>258 rows × 9 columns</p>\n",
       "</div>"
      ],
      "text/plain": [
       "     new_name  lat  lon  ele            time_utc     orig_name  time_epoch  \\\n",
       "0         NaN  NaN  NaN  NaN 2018-02-27 19:18:07  P0027219.JPG  1519759087   \n",
       "1         NaN  NaN  NaN  NaN 2018-02-27 19:18:09  P0027220.JPG  1519759089   \n",
       "2         NaN  NaN  NaN  NaN 2018-02-27 19:18:11  P0027221.JPG  1519759091   \n",
       "..        ...  ...  ...  ...                 ...           ...         ...   \n",
       "255       NaN  NaN  NaN  NaN 2018-02-27 19:26:37  P0027474.JPG  1519759597   \n",
       "256       NaN  NaN  NaN  NaN 2018-02-27 19:26:39  P0027475.JPG  1519759599   \n",
       "257       NaN  NaN  NaN  NaN 2018-02-27 19:26:41  P0027476.JPG  1519759601   \n",
       "\n",
       "             time_iso  interpolated  \n",
       "0    20180227T191807Z             0  \n",
       "1    20180227T191809Z             0  \n",
       "2    20180227T191811Z             0  \n",
       "..                ...           ...  \n",
       "255  20180227T192637Z             0  \n",
       "256  20180227T192639Z             0  \n",
       "257  20180227T192641Z             0  \n",
       "\n",
       "[258 rows x 9 columns]"
      ]
     },
     "execution_count": 10,
     "metadata": {},
     "output_type": "execute_result"
    }
   ],
   "source": [
    "# Make dataframe of photos – get filename and DateTimeOriginal of each photo\n",
    "dt = [datetime.datetime.strptime(Image.open(f)._getexif()[36867], fmt) for f in flist]\n",
    "imgdf = pd.DataFrame({'orig_name': [os.path.basename(f) for f in flist],\n",
    "                      'time_utc': dt,\n",
    "                      'time_epoch': pd.to_datetime(dt, format = tfmt_exif).astype(np.int64) // 10**9, \n",
    "                      'time_iso': [t.strftime(iso_fmt) for t in dt],\n",
    "                      'new_name': np.nan,\n",
    "                      'lon': np.nan,\n",
    "                      'lat': np.nan,\n",
    "                      'ele': np.nan,\n",
    "                      'interpolated': 0},\n",
    "                        columns=['new_name', 'lat', 'lon', 'ele', 'time_utc', 'orig_name', \n",
    "                                 'time_epoch', 'time_iso', 'interpolated'])\n",
    "\n",
    "imgdf"
   ]
  },
  {
   "cell_type": "code",
   "execution_count": 11,
   "metadata": {},
   "outputs": [
    {
     "name": "stdout",
     "output_type": "stream",
     "text": [
      "Exported photo CSV file as: /Volumes/stor/Projects/UAS_SfM/EROS_plumisland_test/f6_imgtmp.csv \n",
      "\n",
      "First file: P0027219.JPG, time: 2018-02-27 19:18:07\n",
      "Last file: P0027476.JPG, time: 2018-02-27 19:26:41 \n",
      "\n",
      "GPX data: /Volumes/stor/Projects/UAS_SfM/EROS_plumisland_test/tlogs/f6.gpx from 2018-02-27 19:10:13 to 2018-02-27 19:27:57\n"
     ]
    },
    {
     "data": {
      "text/plain": [
       "<matplotlib.legend.Legend at 0x11e964ef0>"
      ]
     },
     "execution_count": 11,
     "metadata": {},
     "output_type": "execute_result"
    },
    {
     "data": {
      "image/png": "[encoded data removed]",
      "text/plain": [
       "<matplotlib.figure.Figure at 0x11e8f9e10>"
      ]
     },
     "metadata": {},
     "output_type": "display_data"
    }
   ],
   "source": [
    "# Export CSV for original photo EXIF times\n",
    "imgcsvoutfile = os.path.join(homedir, flight+'_imgtmp.csv')\n",
    "imgdf.to_csv(imgcsvoutfile, index=False)\n",
    "print (\"Exported photo CSV file as:\", imgcsvoutfile,\"\\n\")\n",
    "            \n",
    "# print first and last image name and times\n",
    "print(\"First file: {}, time: {}\".format(imgdf.orig_name.iloc[0],imgdf.time_utc.iloc[0]))\n",
    "print(\"Last file: {}, time: {}\".format(imgdf.orig_name.iloc[-1],imgdf.time_utc.iloc[-1]),\"\\n\")\n",
    "# print first and last times in .gpx file\n",
    "print(\"GPX data: {} from {} to {}\".format(logfile, gpxdf.datetime_utc.iloc[0],gpxdf.datetime_utc.iloc[-1]))\n",
    "\n",
    "#%% Plot times of image vs GPX data\n",
    "fig = plt.figure()\n",
    "ax = fig.add_subplot(111)\n",
    "ax.plot(gpxdf.datetime_utc, gpxdf.ele,'.c', label='GPX')\n",
    "ax.plot(imgdf.time_utc, np.tile(gpxdf.ele.max(), imgdf.shape[0]),'.r', label='photo')\n",
    "ax.legend()\n",
    "#fig.clear()"
   ]
  },
  {
   "cell_type": "markdown",
   "metadata": {},
   "source": [
    "### Image Rename"
   ]
  },
  {
   "cell_type": "code",
   "execution_count": 19,
   "metadata": {},
   "outputs": [
    {
     "ename": "FileNotFoundError",
     "evalue": "[Errno 2] No such file or directory: '/Volumes/stor/Projects/UAS_SfM/EROS_plumisland_test/images/f6/P0027219.JPG' -> '/Volumes/stor/Projects/UAS_SfM/EROS_plumisland_test/images/f6_new/2018015FA_r01_20180227T191807Z_P0027219.JPG'",
     "output_type": "error",
     "traceback": [
      "\u001b[0;31m---------------------------------------------------------------------------\u001b[0m",
      "\u001b[0;31mFileNotFoundError\u001b[0m                         Traceback (most recent call last)",
      "\u001b[0;32m<ipython-input-19-82ac017446a7>\u001b[0m in \u001b[0;36m<module>\u001b[0;34m()\u001b[0m\n\u001b[1;32m     11\u001b[0m     \u001b[0mnamestr\u001b[0m \u001b[0;34m=\u001b[0m \u001b[0;34m\"{}_{}_{}_{}\"\u001b[0m\u001b[0;34m.\u001b[0m\u001b[0mformat\u001b[0m\u001b[0;34m(\u001b[0m\u001b[0msurvey_id\u001b[0m\u001b[0;34m,\u001b[0m \u001b[0mfc_id\u001b[0m\u001b[0;34m,\u001b[0m \u001b[0mrow\u001b[0m\u001b[0;34m.\u001b[0m\u001b[0mtime_iso\u001b[0m\u001b[0;34m,\u001b[0m \u001b[0mimg\u001b[0m\u001b[0;34m)\u001b[0m \u001b[0;31m# ->\u001b[0m\u001b[0;34m\u001b[0m\u001b[0m\n\u001b[1;32m     12\u001b[0m     \u001b[0;32mif\u001b[0m \u001b[0mrename_photos\u001b[0m\u001b[0;34m:\u001b[0m\u001b[0;34m\u001b[0m\u001b[0m\n\u001b[0;32m---> 13\u001b[0;31m         \u001b[0mos\u001b[0m\u001b[0;34m.\u001b[0m\u001b[0mrename\u001b[0m\u001b[0;34m(\u001b[0m\u001b[0mos\u001b[0m\u001b[0;34m.\u001b[0m\u001b[0mpath\u001b[0m\u001b[0;34m.\u001b[0m\u001b[0mjoin\u001b[0m\u001b[0;34m(\u001b[0m\u001b[0mimagefolder\u001b[0m\u001b[0;34m,\u001b[0m \u001b[0mimg\u001b[0m\u001b[0;34m)\u001b[0m\u001b[0;34m,\u001b[0m \u001b[0mos\u001b[0m\u001b[0;34m.\u001b[0m\u001b[0mpath\u001b[0m\u001b[0;34m.\u001b[0m\u001b[0mjoin\u001b[0m\u001b[0;34m(\u001b[0m\u001b[0mimgoutdir\u001b[0m\u001b[0;34m,\u001b[0m \u001b[0mnamestr\u001b[0m\u001b[0;34m)\u001b[0m\u001b[0;34m)\u001b[0m\u001b[0;34m\u001b[0m\u001b[0m\n\u001b[0m\u001b[1;32m     14\u001b[0m     \u001b[0mimgdf\u001b[0m\u001b[0;34m.\u001b[0m\u001b[0mloc\u001b[0m\u001b[0;34m[\u001b[0m\u001b[0midx\u001b[0m\u001b[0;34m,\u001b[0m \u001b[0;34m'new_name'\u001b[0m\u001b[0;34m]\u001b[0m \u001b[0;34m=\u001b[0m \u001b[0mnamestr\u001b[0m\u001b[0;34m\u001b[0m\u001b[0m\n",
      "\u001b[0;31mFileNotFoundError\u001b[0m: [Errno 2] No such file or directory: '/Volumes/stor/Projects/UAS_SfM/EROS_plumisland_test/images/f6/P0027219.JPG' -> '/Volumes/stor/Projects/UAS_SfM/EROS_plumisland_test/images/f6_new/2018015FA_r01_20180227T191807Z_P0027219.JPG'"
     ]
    }
   ],
   "source": [
    "#TODO don't run if the names have already been changed...\n",
    "rename_photos = True\n",
    "\n",
    "if not os.path.exists(imgoutdir):\n",
    "    shutil.copytree(imagefolder, imgoutdir)\n",
    "for idx, row in imgdf.iterrows():\n",
    "    img = row.orig_name\n",
    "    namestr = \"{}_{}_{}_{}\".format(survey_id, fc_id, row.time_iso, img) # ->\n",
    "    if rename_photos:\n",
    "        os.rename(os.path.join(imagefolder, img), os.path.join(imgoutdir, namestr))\n",
    "    imgdf.loc[idx, 'new_name'] = namestr"
   ]
  },
  {
   "cell_type": "markdown",
   "metadata": {},
   "source": [
    "### EXIF GeoTag & add USGS EXIF meta to Images"
   ]
  },
  {
   "cell_type": "code",
   "execution_count": 21,
   "metadata": {},
   "outputs": [
    {
     "data": {
      "text/plain": [
       "True"
      ]
     },
     "execution_count": 21,
     "metadata": {},
     "output_type": "execute_result"
    }
   ],
   "source": [
    "# Run the ExifTool command to geotag images with a GPX file\n",
    "# I needed to hard code the location of exiftools - this might be different depending on ExifTools install\n",
    "#    if needed, you can always run it at the command line flight-by-flight\n",
    "\n",
    "## command line syntax:\n",
    "## exiftool -geosync=-0:0:0 -geotag ./tlogs/f6.gpx ./images/f6\n",
    "\n",
    "#os.system(\"/usr/local/bin/exiftool -geosync=-0:0:0 -geotag \" + homedir + \"/tlogs/f11.gpx \" + homedir + \"/images/f11\")\n",
    "# os.system(\"/usr/local/bin/exiftool -geosync=-0:0:0 -geotag \" + logfile + \" \" + imagefolder)  \n",
    "\n",
    "# Write to EXIF\n",
    "cmd = \"\"\"exiftool -geosync=-0:0:0 -geotag {} {}\"\"\".format(logfile, imgoutdir)\n",
    "subprocess.check_call(cmd, shell=True)\n",
    "\n",
    "# Run ExifTool again to update other USGS specific meta tags\n",
    "write_WHSC_exiftags(imgoutdir, credit, comment, keywords)"
   ]
  },
  {
   "cell_type": "code",
   "execution_count": null,
   "metadata": {
    "collapsed": true
   },
   "outputs": [],
   "source": []
  }
 ],
 "metadata": {
  "kernelspec": {
   "display_name": "Python [conda env:IOOS3]",
   "language": "python",
   "name": "conda-env-IOOS3-py"
  },
  "language_info": {
   "codemirror_mode": {
    "name": "ipython",
    "version": 3
   },
   "file_extension": ".py",
   "mimetype": "text/x-python",
   "name": "python",
   "nbconvert_exporter": "python",
   "pygments_lexer": "ipython3",
   "version": "3.6.1"
  }
 },
 "nbformat": 4,
 "nbformat_minor": 1
}
